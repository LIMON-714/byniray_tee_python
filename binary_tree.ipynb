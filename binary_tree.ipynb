{
 "cells": [
  {
   "cell_type": "code",
   "execution_count": 11,
   "id": "5c6bdc36",
   "metadata": {},
   "outputs": [
    {
     "name": "stdout",
     "output_type": "stream",
     "text": [
      "17\n",
      "11\n",
      "16\n",
      "20\n",
      "50\n",
      "5\n",
      "12\n"
     ]
    }
   ],
   "source": [
    "# pre order tree model\n",
    "class TreeNode:\n",
    "    def __init__(self,value):\n",
    "        self.value=value\n",
    "        self.left,self.right= None, None \n",
    "        \n",
    "def traverse(root):\n",
    "    if root:\n",
    "        print(root.value)\n",
    "        traverse(root.left)\n",
    "        traverse(root.right)\n",
    "    \n",
    "def main():\n",
    "    root = TreeNode(17)\n",
    "    \n",
    "    root.left = TreeNode(11)\n",
    "    root.right = TreeNode(50)\n",
    "    \n",
    "    \n",
    "    root.left.left = TreeNode(16)\n",
    "    root.left.right = TreeNode(20)\n",
    "    \n",
    "    root.right.left = TreeNode(5)\n",
    "    root.right.right = TreeNode(12)\n",
    "    traverse(root)\n",
    "main()"
   ]
  },
  {
   "cell_type": "code",
   "execution_count": 10,
   "id": "18e557a2",
   "metadata": {},
   "outputs": [
    {
     "name": "stdout",
     "output_type": "stream",
     "text": [
      "17\n",
      "11\n",
      "16\n",
      "20\n",
      "50\n",
      "5\n",
      "12\n"
     ]
    }
   ],
   "source": [
    "## inorder tree model\n",
    "class TreeShow:\n",
    "    def __init__(self, value):\n",
    "        self.value = value\n",
    "        self.left, self.right = None, None\n",
    "\n",
    "\n",
    "def traverse(root):\n",
    "    if root:\n",
    "        traverse(root.left)\n",
    "        print(root.value)\n",
    "        traverse(root.right)\n",
    "\n",
    "\n",
    "def main():\n",
    "    root = TreeShow(17)\n",
    "\n",
    "    root.left = TreeShow(11)\n",
    "    root.right = TreeShow(50)\n",
    "\n",
    "    root.left.left = TreeShow(16)\n",
    "    root.left.right = TreeShow(20)\n",
    "\n",
    "    root.right.left = TreeShow(5)\n",
    "    root.right.right = TreeShow(12)\n",
    "    traverse(root)\n",
    "\n",
    "\n",
    "main()\n"
   ]
  },
  {
   "cell_type": "code",
   "execution_count": 12,
   "id": "2d3f7a33",
   "metadata": {},
   "outputs": [
    {
     "name": "stdout",
     "output_type": "stream",
     "text": [
      "16\n",
      "20\n",
      "11\n",
      "5\n",
      "12\n",
      "50\n",
      "17\n"
     ]
    }
   ],
   "source": [
    "## post order tree model\n",
    "class TreeShow:\n",
    "    def __init__(self, value):\n",
    "        self.value = value\n",
    "        self.left, self.right = None, None\n",
    "\n",
    "\n",
    "def traverse(root):\n",
    "    if root:\n",
    "        traverse(root.left)\n",
    "        traverse(root.right)\n",
    "        print(root.value)\n",
    "\n",
    "\n",
    "def main():\n",
    "    root = TreeShow(17)\n",
    "\n",
    "    root.left = TreeShow(11)\n",
    "    root.right = TreeShow(50)\n",
    "\n",
    "    root.left.left = TreeShow(16)\n",
    "    root.left.right = TreeShow(20)\n",
    "\n",
    "    root.right.left = TreeShow(5)\n",
    "    root.right.right = TreeShow(12)\n",
    "    traverse(root)\n",
    "\n",
    "\n",
    "main()\n"
   ]
  },
  {
   "cell_type": "code",
   "execution_count": null,
   "id": "57b75015",
   "metadata": {},
   "outputs": [],
   "source": []
  }
 ],
 "metadata": {
  "kernelspec": {
   "display_name": "Python 3 (ipykernel)",
   "language": "python",
   "name": "python3"
  },
  "language_info": {
   "codemirror_mode": {
    "name": "ipython",
    "version": 3
   },
   "file_extension": ".py",
   "mimetype": "text/x-python",
   "name": "python",
   "nbconvert_exporter": "python",
   "pygments_lexer": "ipython3",
   "version": "3.11.5"
  }
 },
 "nbformat": 4,
 "nbformat_minor": 5
}
